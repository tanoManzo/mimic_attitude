{
  "nbformat": 4,
  "nbformat_minor": 0,
  "metadata": {
    "colab": {
      "provenance": [],
      "mount_file_id": "1v4R7TW5J-4XF-uMTNPPY03UQ2lQgj2G4",
      "authorship_tag": "ABX9TyNsC+L11lx2gfqmNqOYbmcI",
      "include_colab_link": true
    },
    "kernelspec": {
      "name": "python3",
      "display_name": "Python 3"
    },
    "language_info": {
      "name": "python"
    }
  },
  "cells": [
    {
      "cell_type": "markdown",
      "metadata": {
        "id": "view-in-github",
        "colab_type": "text"
      },
      "source": [
        "<a href=\"https://colab.research.google.com/github/tanoManzo/mimic_attitude/blob/dev/zero_shot_mimic_sentiment_eval.ipynb\" target=\"_parent\"><img src=\"https://colab.research.google.com/assets/colab-badge.svg\" alt=\"Open In Colab\"/></a>"
      ]
    },
    {
      "cell_type": "markdown",
      "source": [
        "# Zero-shot Models Evaluation & Relabeling \n"
      ],
      "metadata": {
        "id": "R-Vln6NOBwzs"
      }
    },
    {
      "cell_type": "markdown",
      "source": [
        "load and explore"
      ],
      "metadata": {
        "id": "kRRlOHxN2oIX"
      }
    },
    {
      "cell_type": "code",
      "execution_count": null,
      "metadata": {
        "id": "jLkIaOWl0CH9"
      },
      "outputs": [],
      "source": [
        "import pandas as pd\n",
        "import numpy as np"
      ]
    },
    {
      "cell_type": "markdown",
      "source": [
        "load annotations"
      ],
      "metadata": {
        "id": "sG2LEUGgCDQi"
      }
    },
    {
      "cell_type": "code",
      "source": [
        "path_annotations = '/content/drive/MyDrive/NIH/Data/annotated_burnout/anno.jsonl'\n",
        "df_notes = df_notes.iloc[20:][['id','text','cats']].reset_index(drop=True)\n",
        "df_notes"
      ],
      "metadata": {
        "colab": {
          "base_uri": "https://localhost:8080/",
          "height": 423
        },
        "id": "-Igfarh40IS6",
        "outputId": "b027ec26-ba85-436b-b4cf-c62f87157565"
      },
      "execution_count": null,
      "outputs": [
        {
          "output_type": "execute_result",
          "data": {
            "text/plain": [
              "      id                                               text  \\\n",
              "0    670  NPN addendum\\n\\n\\n4. Completed 21day course of...   \n",
              "1    671  Nursing NICU Note\\n\\n\\nPt required frequent ba...   \n",
              "2    672  Nursing NICU Note\\n\\n\\n1. resp. O/Pt remains o...   \n",
              "3    673  Nursing progress note\\n\\n\\n#1 O: [**Known last...   \n",
              "4    674  NP NOTE\\nProcedure Note: [** 1876**] removal\\n...   \n",
              "..   ...                                                ...   \n",
              "218  888  NPN 1900-0700\\n\\n\\n2.   RESP:  Infant remains ...   \n",
              "219  889  NICU NSG ADMIT NOTE\\n\\n28 [**1-2**] week femal...   \n",
              "220  890  Nursing NICU Note Cont.\\n\\n6 Alt. in CV status...   \n",
              "221  891  NPN Days\\n\\n\\n#1 ID: Temp stable, infant is ac...   \n",
              "222  892  Procedure Note: Umbilical Venous catheter adju...   \n",
              "\n",
              "                        cats  \n",
              "0    [Overall Positive Note]  \n",
              "1    [Overall Negative Note]  \n",
              "2     [Overall Neutral Note]  \n",
              "3    [Overall Positive Note]  \n",
              "4     [Overall Neutral Note]  \n",
              "..                       ...  \n",
              "218   [Overall Neutral Note]  \n",
              "219   [Overall Neutral Note]  \n",
              "220   [Overall Neutral Note]  \n",
              "221   [Overall Neutral Note]  \n",
              "222   [Overall Neutral Note]  \n",
              "\n",
              "[223 rows x 3 columns]"
            ],
            "text/html": [
              "\n",
              "  <div id=\"df-e2c776ec-48d9-4fac-b8cd-c6571d8025ed\">\n",
              "    <div class=\"colab-df-container\">\n",
              "      <div>\n",
              "<style scoped>\n",
              "    .dataframe tbody tr th:only-of-type {\n",
              "        vertical-align: middle;\n",
              "    }\n",
              "\n",
              "    .dataframe tbody tr th {\n",
              "        vertical-align: top;\n",
              "    }\n",
              "\n",
              "    .dataframe thead th {\n",
              "        text-align: right;\n",
              "    }\n",
              "</style>\n",
              "<table border=\"1\" class=\"dataframe\">\n",
              "  <thead>\n",
              "    <tr style=\"text-align: right;\">\n",
              "      <th></th>\n",
              "      <th>id</th>\n",
              "      <th>text</th>\n",
              "      <th>cats</th>\n",
              "    </tr>\n",
              "  </thead>\n",
              "  <tbody>\n",
              "    <tr>\n",
              "      <th>0</th>\n",
              "      <td>670</td>\n",
              "      <td>NPN addendum\\n\\n\\n4. Completed 21day course of...</td>\n",
              "      <td>[Overall Positive Note]</td>\n",
              "    </tr>\n",
              "    <tr>\n",
              "      <th>1</th>\n",
              "      <td>671</td>\n",
              "      <td>Nursing NICU Note\\n\\n\\nPt required frequent ba...</td>\n",
              "      <td>[Overall Negative Note]</td>\n",
              "    </tr>\n",
              "    <tr>\n",
              "      <th>2</th>\n",
              "      <td>672</td>\n",
              "      <td>Nursing NICU Note\\n\\n\\n1. resp. O/Pt remains o...</td>\n",
              "      <td>[Overall Neutral Note]</td>\n",
              "    </tr>\n",
              "    <tr>\n",
              "      <th>3</th>\n",
              "      <td>673</td>\n",
              "      <td>Nursing progress note\\n\\n\\n#1 O: [**Known last...</td>\n",
              "      <td>[Overall Positive Note]</td>\n",
              "    </tr>\n",
              "    <tr>\n",
              "      <th>4</th>\n",
              "      <td>674</td>\n",
              "      <td>NP NOTE\\nProcedure Note: [** 1876**] removal\\n...</td>\n",
              "      <td>[Overall Neutral Note]</td>\n",
              "    </tr>\n",
              "    <tr>\n",
              "      <th>...</th>\n",
              "      <td>...</td>\n",
              "      <td>...</td>\n",
              "      <td>...</td>\n",
              "    </tr>\n",
              "    <tr>\n",
              "      <th>218</th>\n",
              "      <td>888</td>\n",
              "      <td>NPN 1900-0700\\n\\n\\n2.   RESP:  Infant remains ...</td>\n",
              "      <td>[Overall Neutral Note]</td>\n",
              "    </tr>\n",
              "    <tr>\n",
              "      <th>219</th>\n",
              "      <td>889</td>\n",
              "      <td>NICU NSG ADMIT NOTE\\n\\n28 [**1-2**] week femal...</td>\n",
              "      <td>[Overall Neutral Note]</td>\n",
              "    </tr>\n",
              "    <tr>\n",
              "      <th>220</th>\n",
              "      <td>890</td>\n",
              "      <td>Nursing NICU Note Cont.\\n\\n6 Alt. in CV status...</td>\n",
              "      <td>[Overall Neutral Note]</td>\n",
              "    </tr>\n",
              "    <tr>\n",
              "      <th>221</th>\n",
              "      <td>891</td>\n",
              "      <td>NPN Days\\n\\n\\n#1 ID: Temp stable, infant is ac...</td>\n",
              "      <td>[Overall Neutral Note]</td>\n",
              "    </tr>\n",
              "    <tr>\n",
              "      <th>222</th>\n",
              "      <td>892</td>\n",
              "      <td>Procedure Note: Umbilical Venous catheter adju...</td>\n",
              "      <td>[Overall Neutral Note]</td>\n",
              "    </tr>\n",
              "  </tbody>\n",
              "</table>\n",
              "<p>223 rows × 3 columns</p>\n",
              "</div>\n",
              "      <button class=\"colab-df-convert\" onclick=\"convertToInteractive('df-e2c776ec-48d9-4fac-b8cd-c6571d8025ed')\"\n",
              "              title=\"Convert this dataframe to an interactive table.\"\n",
              "              style=\"display:none;\">\n",
              "        \n",
              "  <svg xmlns=\"http://www.w3.org/2000/svg\" height=\"24px\"viewBox=\"0 0 24 24\"\n",
              "       width=\"24px\">\n",
              "    <path d=\"M0 0h24v24H0V0z\" fill=\"none\"/>\n",
              "    <path d=\"M18.56 5.44l.94 2.06.94-2.06 2.06-.94-2.06-.94-.94-2.06-.94 2.06-2.06.94zm-11 1L8.5 8.5l.94-2.06 2.06-.94-2.06-.94L8.5 2.5l-.94 2.06-2.06.94zm10 10l.94 2.06.94-2.06 2.06-.94-2.06-.94-.94-2.06-.94 2.06-2.06.94z\"/><path d=\"M17.41 7.96l-1.37-1.37c-.4-.4-.92-.59-1.43-.59-.52 0-1.04.2-1.43.59L10.3 9.45l-7.72 7.72c-.78.78-.78 2.05 0 2.83L4 21.41c.39.39.9.59 1.41.59.51 0 1.02-.2 1.41-.59l7.78-7.78 2.81-2.81c.8-.78.8-2.07 0-2.86zM5.41 20L4 18.59l7.72-7.72 1.47 1.35L5.41 20z\"/>\n",
              "  </svg>\n",
              "      </button>\n",
              "      \n",
              "  <style>\n",
              "    .colab-df-container {\n",
              "      display:flex;\n",
              "      flex-wrap:wrap;\n",
              "      gap: 12px;\n",
              "    }\n",
              "\n",
              "    .colab-df-convert {\n",
              "      background-color: #E8F0FE;\n",
              "      border: none;\n",
              "      border-radius: 50%;\n",
              "      cursor: pointer;\n",
              "      display: none;\n",
              "      fill: #1967D2;\n",
              "      height: 32px;\n",
              "      padding: 0 0 0 0;\n",
              "      width: 32px;\n",
              "    }\n",
              "\n",
              "    .colab-df-convert:hover {\n",
              "      background-color: #E2EBFA;\n",
              "      box-shadow: 0px 1px 2px rgba(60, 64, 67, 0.3), 0px 1px 3px 1px rgba(60, 64, 67, 0.15);\n",
              "      fill: #174EA6;\n",
              "    }\n",
              "\n",
              "    [theme=dark] .colab-df-convert {\n",
              "      background-color: #3B4455;\n",
              "      fill: #D2E3FC;\n",
              "    }\n",
              "\n",
              "    [theme=dark] .colab-df-convert:hover {\n",
              "      background-color: #434B5C;\n",
              "      box-shadow: 0px 1px 3px 1px rgba(0, 0, 0, 0.15);\n",
              "      filter: drop-shadow(0px 1px 2px rgba(0, 0, 0, 0.3));\n",
              "      fill: #FFFFFF;\n",
              "    }\n",
              "  </style>\n",
              "\n",
              "      <script>\n",
              "        const buttonEl =\n",
              "          document.querySelector('#df-e2c776ec-48d9-4fac-b8cd-c6571d8025ed button.colab-df-convert');\n",
              "        buttonEl.style.display =\n",
              "          google.colab.kernel.accessAllowed ? 'block' : 'none';\n",
              "\n",
              "        async function convertToInteractive(key) {\n",
              "          const element = document.querySelector('#df-e2c776ec-48d9-4fac-b8cd-c6571d8025ed');\n",
              "          const dataTable =\n",
              "            await google.colab.kernel.invokeFunction('convertToInteractive',\n",
              "                                                     [key], {});\n",
              "          if (!dataTable) return;\n",
              "\n",
              "          const docLinkHtml = 'Like what you see? Visit the ' +\n",
              "            '<a target=\"_blank\" href=https://colab.research.google.com/notebooks/data_table.ipynb>data table notebook</a>'\n",
              "            + ' to learn more about interactive tables.';\n",
              "          element.innerHTML = '';\n",
              "          dataTable['output_type'] = 'display_data';\n",
              "          await google.colab.output.renderOutput(dataTable, element);\n",
              "          const docLink = document.createElement('div');\n",
              "          docLink.innerHTML = docLinkHtml;\n",
              "          element.appendChild(docLink);\n",
              "        }\n",
              "      </script>\n",
              "    </div>\n",
              "  </div>\n",
              "  "
            ]
          },
          "metadata": {},
          "execution_count": 164
        }
      ]
    },
    {
      "cell_type": "markdown",
      "source": [
        "load results from models outputs"
      ],
      "metadata": {
        "id": "rcX5Y3tVCUVc"
      }
    },
    {
      "cell_type": "code",
      "source": [
        "results_label = pd.read_json('/content/drive/MyDrive/NIH/Data/results_burnout/label_zeroshot.json')\n",
        "results_label"
      ],
      "metadata": {
        "colab": {
          "base_uri": "https://localhost:8080/",
          "height": 423
        },
        "id": "sbN901YP0TZM",
        "outputId": "1a86406c-026e-44bd-f756-e5fa988a20b3"
      },
      "execution_count": null,
      "outputs": [
        {
          "output_type": "execute_result",
          "data": {
            "text/plain": [
              "     roberta distilbert   minilm    bloom\n",
              "0    neutral   NEGATIVE  LABEL_0  LABEL_0\n",
              "1    neutral   NEGATIVE  LABEL_0  LABEL_0\n",
              "2    neutral   NEGATIVE  LABEL_0  LABEL_0\n",
              "3    neutral   NEGATIVE  LABEL_0  LABEL_0\n",
              "4    neutral   NEGATIVE  LABEL_0  LABEL_1\n",
              "..       ...        ...      ...      ...\n",
              "187  neutral   NEGATIVE  LABEL_0  LABEL_0\n",
              "188  neutral   NEGATIVE  LABEL_0  LABEL_0\n",
              "189  neutral   NEGATIVE  LABEL_0  LABEL_0\n",
              "190  neutral   NEGATIVE  LABEL_0  LABEL_0\n",
              "191  neutral   NEGATIVE  LABEL_0  LABEL_0\n",
              "\n",
              "[192 rows x 4 columns]"
            ],
            "text/html": [
              "\n",
              "  <div id=\"df-3c2b13aa-cbbb-4bc2-bac9-8f1d35b52826\">\n",
              "    <div class=\"colab-df-container\">\n",
              "      <div>\n",
              "<style scoped>\n",
              "    .dataframe tbody tr th:only-of-type {\n",
              "        vertical-align: middle;\n",
              "    }\n",
              "\n",
              "    .dataframe tbody tr th {\n",
              "        vertical-align: top;\n",
              "    }\n",
              "\n",
              "    .dataframe thead th {\n",
              "        text-align: right;\n",
              "    }\n",
              "</style>\n",
              "<table border=\"1\" class=\"dataframe\">\n",
              "  <thead>\n",
              "    <tr style=\"text-align: right;\">\n",
              "      <th></th>\n",
              "      <th>roberta</th>\n",
              "      <th>distilbert</th>\n",
              "      <th>minilm</th>\n",
              "      <th>bloom</th>\n",
              "    </tr>\n",
              "  </thead>\n",
              "  <tbody>\n",
              "    <tr>\n",
              "      <th>0</th>\n",
              "      <td>neutral</td>\n",
              "      <td>NEGATIVE</td>\n",
              "      <td>LABEL_0</td>\n",
              "      <td>LABEL_0</td>\n",
              "    </tr>\n",
              "    <tr>\n",
              "      <th>1</th>\n",
              "      <td>neutral</td>\n",
              "      <td>NEGATIVE</td>\n",
              "      <td>LABEL_0</td>\n",
              "      <td>LABEL_0</td>\n",
              "    </tr>\n",
              "    <tr>\n",
              "      <th>2</th>\n",
              "      <td>neutral</td>\n",
              "      <td>NEGATIVE</td>\n",
              "      <td>LABEL_0</td>\n",
              "      <td>LABEL_0</td>\n",
              "    </tr>\n",
              "    <tr>\n",
              "      <th>3</th>\n",
              "      <td>neutral</td>\n",
              "      <td>NEGATIVE</td>\n",
              "      <td>LABEL_0</td>\n",
              "      <td>LABEL_0</td>\n",
              "    </tr>\n",
              "    <tr>\n",
              "      <th>4</th>\n",
              "      <td>neutral</td>\n",
              "      <td>NEGATIVE</td>\n",
              "      <td>LABEL_0</td>\n",
              "      <td>LABEL_1</td>\n",
              "    </tr>\n",
              "    <tr>\n",
              "      <th>...</th>\n",
              "      <td>...</td>\n",
              "      <td>...</td>\n",
              "      <td>...</td>\n",
              "      <td>...</td>\n",
              "    </tr>\n",
              "    <tr>\n",
              "      <th>187</th>\n",
              "      <td>neutral</td>\n",
              "      <td>NEGATIVE</td>\n",
              "      <td>LABEL_0</td>\n",
              "      <td>LABEL_0</td>\n",
              "    </tr>\n",
              "    <tr>\n",
              "      <th>188</th>\n",
              "      <td>neutral</td>\n",
              "      <td>NEGATIVE</td>\n",
              "      <td>LABEL_0</td>\n",
              "      <td>LABEL_0</td>\n",
              "    </tr>\n",
              "    <tr>\n",
              "      <th>189</th>\n",
              "      <td>neutral</td>\n",
              "      <td>NEGATIVE</td>\n",
              "      <td>LABEL_0</td>\n",
              "      <td>LABEL_0</td>\n",
              "    </tr>\n",
              "    <tr>\n",
              "      <th>190</th>\n",
              "      <td>neutral</td>\n",
              "      <td>NEGATIVE</td>\n",
              "      <td>LABEL_0</td>\n",
              "      <td>LABEL_0</td>\n",
              "    </tr>\n",
              "    <tr>\n",
              "      <th>191</th>\n",
              "      <td>neutral</td>\n",
              "      <td>NEGATIVE</td>\n",
              "      <td>LABEL_0</td>\n",
              "      <td>LABEL_0</td>\n",
              "    </tr>\n",
              "  </tbody>\n",
              "</table>\n",
              "<p>192 rows × 4 columns</p>\n",
              "</div>\n",
              "      <button class=\"colab-df-convert\" onclick=\"convertToInteractive('df-3c2b13aa-cbbb-4bc2-bac9-8f1d35b52826')\"\n",
              "              title=\"Convert this dataframe to an interactive table.\"\n",
              "              style=\"display:none;\">\n",
              "        \n",
              "  <svg xmlns=\"http://www.w3.org/2000/svg\" height=\"24px\"viewBox=\"0 0 24 24\"\n",
              "       width=\"24px\">\n",
              "    <path d=\"M0 0h24v24H0V0z\" fill=\"none\"/>\n",
              "    <path d=\"M18.56 5.44l.94 2.06.94-2.06 2.06-.94-2.06-.94-.94-2.06-.94 2.06-2.06.94zm-11 1L8.5 8.5l.94-2.06 2.06-.94-2.06-.94L8.5 2.5l-.94 2.06-2.06.94zm10 10l.94 2.06.94-2.06 2.06-.94-2.06-.94-.94-2.06-.94 2.06-2.06.94z\"/><path d=\"M17.41 7.96l-1.37-1.37c-.4-.4-.92-.59-1.43-.59-.52 0-1.04.2-1.43.59L10.3 9.45l-7.72 7.72c-.78.78-.78 2.05 0 2.83L4 21.41c.39.39.9.59 1.41.59.51 0 1.02-.2 1.41-.59l7.78-7.78 2.81-2.81c.8-.78.8-2.07 0-2.86zM5.41 20L4 18.59l7.72-7.72 1.47 1.35L5.41 20z\"/>\n",
              "  </svg>\n",
              "      </button>\n",
              "      \n",
              "  <style>\n",
              "    .colab-df-container {\n",
              "      display:flex;\n",
              "      flex-wrap:wrap;\n",
              "      gap: 12px;\n",
              "    }\n",
              "\n",
              "    .colab-df-convert {\n",
              "      background-color: #E8F0FE;\n",
              "      border: none;\n",
              "      border-radius: 50%;\n",
              "      cursor: pointer;\n",
              "      display: none;\n",
              "      fill: #1967D2;\n",
              "      height: 32px;\n",
              "      padding: 0 0 0 0;\n",
              "      width: 32px;\n",
              "    }\n",
              "\n",
              "    .colab-df-convert:hover {\n",
              "      background-color: #E2EBFA;\n",
              "      box-shadow: 0px 1px 2px rgba(60, 64, 67, 0.3), 0px 1px 3px 1px rgba(60, 64, 67, 0.15);\n",
              "      fill: #174EA6;\n",
              "    }\n",
              "\n",
              "    [theme=dark] .colab-df-convert {\n",
              "      background-color: #3B4455;\n",
              "      fill: #D2E3FC;\n",
              "    }\n",
              "\n",
              "    [theme=dark] .colab-df-convert:hover {\n",
              "      background-color: #434B5C;\n",
              "      box-shadow: 0px 1px 3px 1px rgba(0, 0, 0, 0.15);\n",
              "      filter: drop-shadow(0px 1px 2px rgba(0, 0, 0, 0.3));\n",
              "      fill: #FFFFFF;\n",
              "    }\n",
              "  </style>\n",
              "\n",
              "      <script>\n",
              "        const buttonEl =\n",
              "          document.querySelector('#df-3c2b13aa-cbbb-4bc2-bac9-8f1d35b52826 button.colab-df-convert');\n",
              "        buttonEl.style.display =\n",
              "          google.colab.kernel.accessAllowed ? 'block' : 'none';\n",
              "\n",
              "        async function convertToInteractive(key) {\n",
              "          const element = document.querySelector('#df-3c2b13aa-cbbb-4bc2-bac9-8f1d35b52826');\n",
              "          const dataTable =\n",
              "            await google.colab.kernel.invokeFunction('convertToInteractive',\n",
              "                                                     [key], {});\n",
              "          if (!dataTable) return;\n",
              "\n",
              "          const docLinkHtml = 'Like what you see? Visit the ' +\n",
              "            '<a target=\"_blank\" href=https://colab.research.google.com/notebooks/data_table.ipynb>data table notebook</a>'\n",
              "            + ' to learn more about interactive tables.';\n",
              "          element.innerHTML = '';\n",
              "          dataTable['output_type'] = 'display_data';\n",
              "          await google.colab.output.renderOutput(dataTable, element);\n",
              "          const docLink = document.createElement('div');\n",
              "          docLink.innerHTML = docLinkHtml;\n",
              "          element.appendChild(docLink);\n",
              "        }\n",
              "      </script>\n",
              "    </div>\n",
              "  </div>\n",
              "  "
            ]
          },
          "metadata": {},
          "execution_count": 165
        }
      ]
    },
    {
      "cell_type": "markdown",
      "source": [
        "explore"
      ],
      "metadata": {
        "id": "lP64ka9VCZsn"
      }
    },
    {
      "cell_type": "code",
      "source": [
        "for col in results_label.columns:\n",
        "  print(results_label[col].value_counts(sort=True), '\\n')"
      ],
      "metadata": {
        "colab": {
          "base_uri": "https://localhost:8080/"
        },
        "id": "Fve6HBLH1VLL",
        "outputId": "8a20a8c9-35c3-4f39-e476-04253170aef2"
      },
      "execution_count": null,
      "outputs": [
        {
          "output_type": "stream",
          "name": "stdout",
          "text": [
            "neutral     189\n",
            "negative      2\n",
            "positive      1\n",
            "Name: roberta, dtype: int64 \n",
            "\n",
            "NEGATIVE    177\n",
            "POSITIVE     15\n",
            "Name: distilbert, dtype: int64 \n",
            "\n",
            "LABEL_0    192\n",
            "Name: minilm, dtype: int64 \n",
            "\n",
            "LABEL_0    159\n",
            "LABEL_1     33\n",
            "Name: bloom, dtype: int64 \n",
            "\n"
          ]
        }
      ]
    },
    {
      "cell_type": "markdown",
      "source": [
        "pre-processing basic, mapping same sentiment "
      ],
      "metadata": {
        "id": "UC8-mosD2rPU"
      }
    },
    {
      "cell_type": "code",
      "source": [
        "num_notes = 192\n",
        "labels = {}"
      ],
      "metadata": {
        "id": "NtCi8CFF7Zk7"
      },
      "execution_count": null,
      "outputs": []
    },
    {
      "cell_type": "code",
      "source": [
        "def mapping_origin(labels):\n",
        "  mapping = {'Overall Positive Note':'positive', 'Overall Negative Note':'negative', 'Overall Neutral Note':'neutral'}\n",
        "  return labels.map(lambda x: mapping[x])\n",
        "\n",
        "true_label = mapping_origin(df_notes.iloc[:num_notes]['cats'].map(lambda x:x[0]))"
      ],
      "metadata": {
        "id": "YXNjYn_92s4A"
      },
      "execution_count": null,
      "outputs": []
    },
    {
      "cell_type": "code",
      "source": [
        "labels['roberta_label'] = results_label['roberta']"
      ],
      "metadata": {
        "id": "E9CGP6To6cRE"
      },
      "execution_count": null,
      "outputs": []
    },
    {
      "cell_type": "code",
      "source": [
        "def mapping_distil_origin(labels):\n",
        "  mapping = {'NEGATIVE':'negative', 'POSITIVE':'positive'}\n",
        "  return labels.map(lambda x: mapping[x])\n",
        "\n",
        "labels['distil_label']  = mapping_distil_origin(results_label['distilbert'])"
      ],
      "metadata": {
        "id": "nT3JHVmU7yct"
      },
      "execution_count": null,
      "outputs": []
    },
    {
      "cell_type": "code",
      "source": [
        "def mapping_distil_origin(labels):\n",
        "  mapping = {'LABEL_0':'negative', 'LABEL_1':'positive'}\n",
        "  return labels.map(lambda x: mapping[x])\n",
        "\n",
        "labels['minilm_label'] = mapping_distil_origin(results_label['minilm'])"
      ],
      "metadata": {
        "id": "DKcMpY2S9tN9"
      },
      "execution_count": null,
      "outputs": []
    },
    {
      "cell_type": "code",
      "source": [
        "def mapping_distil_origin(labels):\n",
        "  mapping = {'LABEL_0':'negative', 'LABEL_1':'positive'}\n",
        "  return labels.map(lambda x: mapping[x])\n",
        "\n",
        "labels['bloom_label'] = mapping_distil_origin(results_label['bloom'])"
      ],
      "metadata": {
        "id": "yDsuLVF5-naL"
      },
      "execution_count": null,
      "outputs": []
    },
    {
      "cell_type": "markdown",
      "source": [
        "evaluation basic "
      ],
      "metadata": {
        "id": "2IvHMzkd3yQY"
      }
    },
    {
      "cell_type": "code",
      "source": [
        "from sklearn.metrics import precision_recall_fscore_support\n",
        "from sklearn.metrics import accuracy_score\n",
        "\n",
        "for name_pred, y_pred in labels.items():\n",
        "  print(name_pred)\n",
        "  print(precision_recall_fscore_support(true_label, y_pred, average='macro'))\n",
        "  print(precision_recall_fscore_support(true_label, y_pred, average='micro'))\n",
        "  print(precision_recall_fscore_support(true_label, y_pred, average='weighted'))\n",
        "  print(accuracy_score(true_label, y_pred))\n",
        "  print(accuracy_score(true_label, y_pred, normalize=False))"
      ],
      "metadata": {
        "colab": {
          "base_uri": "https://localhost:8080/"
        },
        "id": "vMqcI-8V3zfB",
        "outputId": "e2081b0e-0b21-45f0-c8f1-54ea46abf976"
      },
      "execution_count": null,
      "outputs": [
        {
          "output_type": "stream",
          "name": "stdout",
          "text": [
            "roberta_label\n",
            "(0.753968253968254, 0.3683360700602079, 0.35672521900066806, None)\n",
            "(0.7604166666666666, 0.7604166666666666, 0.7604166666666666, None)\n",
            "(0.7290426587301587, 0.7604166666666666, 0.6706665930094072, None)\n",
            "0.7604166666666666\n",
            "146\n",
            "distil_label\n",
            "(0.1713747645951036, 0.44365079365079363, 0.22408572094106685, None)\n",
            "(0.19270833333333334, 0.19270833333333334, 0.19270833333333331, None)\n",
            "(0.05379001883239171, 0.19270833333333334, 0.07817959468902864, None)\n",
            "0.19270833333333334\n",
            "37\n",
            "minilm_label\n",
            "(0.06076388888888889, 0.3333333333333333, 0.10279001468428779, None)\n",
            "(0.18229166666666666, 0.18229166666666666, 0.18229166666666663, None)\n",
            "(0.03323025173611111, 0.18229166666666666, 0.05621328928046989, None)\n",
            "0.18229166666666666\n",
            "35\n",
            "bloom_label\n",
            "(0.10920526014865638, 0.4055555555555556, 0.17029400534555172, None)\n",
            "(0.171875, 0.171875, 0.171875, None)\n",
            "(0.041571374118543926, 0.171875, 0.06650916380297824, None)\n",
            "0.171875\n",
            "33\n"
          ]
        },
        {
          "output_type": "stream",
          "name": "stderr",
          "text": [
            "/usr/local/lib/python3.8/dist-packages/sklearn/metrics/_classification.py:1318: UndefinedMetricWarning: Precision and F-score are ill-defined and being set to 0.0 in labels with no predicted samples. Use `zero_division` parameter to control this behavior.\n",
            "  _warn_prf(average, modifier, msg_start, len(result))\n",
            "/usr/local/lib/python3.8/dist-packages/sklearn/metrics/_classification.py:1318: UndefinedMetricWarning: Precision and F-score are ill-defined and being set to 0.0 in labels with no predicted samples. Use `zero_division` parameter to control this behavior.\n",
            "  _warn_prf(average, modifier, msg_start, len(result))\n",
            "/usr/local/lib/python3.8/dist-packages/sklearn/metrics/_classification.py:1318: UndefinedMetricWarning: Precision and F-score are ill-defined and being set to 0.0 in labels with no predicted samples. Use `zero_division` parameter to control this behavior.\n",
            "  _warn_prf(average, modifier, msg_start, len(result))\n",
            "/usr/local/lib/python3.8/dist-packages/sklearn/metrics/_classification.py:1318: UndefinedMetricWarning: Precision and F-score are ill-defined and being set to 0.0 in labels with no predicted samples. Use `zero_division` parameter to control this behavior.\n",
            "  _warn_prf(average, modifier, msg_start, len(result))\n",
            "/usr/local/lib/python3.8/dist-packages/sklearn/metrics/_classification.py:1318: UndefinedMetricWarning: Precision and F-score are ill-defined and being set to 0.0 in labels with no predicted samples. Use `zero_division` parameter to control this behavior.\n",
            "  _warn_prf(average, modifier, msg_start, len(result))\n",
            "/usr/local/lib/python3.8/dist-packages/sklearn/metrics/_classification.py:1318: UndefinedMetricWarning: Precision and F-score are ill-defined and being set to 0.0 in labels with no predicted samples. Use `zero_division` parameter to control this behavior.\n",
            "  _warn_prf(average, modifier, msg_start, len(result))\n"
          ]
        }
      ]
    },
    {
      "cell_type": "markdown",
      "source": [
        "pre-process ad-hoc, generate neutral"
      ],
      "metadata": {
        "id": "eXYsKMLPZHrs"
      }
    },
    {
      "cell_type": "code",
      "source": [
        "score_label = pd.read_json('/content/drive/MyDrive/NIH/Data/results_burnout/score_zeroshot.json')\n",
        "score_label.describe()"
      ],
      "metadata": {
        "colab": {
          "base_uri": "https://localhost:8080/",
          "height": 300
        },
        "id": "wO8llUvQZPPs",
        "outputId": "efa26961-37a7-45ec-c85c-40cdebe079e1"
      },
      "execution_count": null,
      "outputs": [
        {
          "output_type": "execute_result",
          "data": {
            "text/plain": [
              "          roberta  distilbert      minilm       bloom\n",
              "count  192.000000  192.000000  192.000000  192.000000\n",
              "mean     0.827485    0.968404    0.501422    0.992690\n",
              "std      0.080960    0.080818    0.000362    0.040856\n",
              "min      0.495300    0.561700    0.500300    0.601400\n",
              "25%      0.805575    0.989625    0.501300    1.000000\n",
              "50%      0.850050    0.995700    0.501500    1.000000\n",
              "75%      0.875700    0.997925    0.501700    1.000000\n",
              "max      0.938100    0.999500    0.502100    1.000000"
            ],
            "text/html": [
              "\n",
              "  <div id=\"df-a2910dc3-4f9d-47fc-85d1-9313434468fb\">\n",
              "    <div class=\"colab-df-container\">\n",
              "      <div>\n",
              "<style scoped>\n",
              "    .dataframe tbody tr th:only-of-type {\n",
              "        vertical-align: middle;\n",
              "    }\n",
              "\n",
              "    .dataframe tbody tr th {\n",
              "        vertical-align: top;\n",
              "    }\n",
              "\n",
              "    .dataframe thead th {\n",
              "        text-align: right;\n",
              "    }\n",
              "</style>\n",
              "<table border=\"1\" class=\"dataframe\">\n",
              "  <thead>\n",
              "    <tr style=\"text-align: right;\">\n",
              "      <th></th>\n",
              "      <th>roberta</th>\n",
              "      <th>distilbert</th>\n",
              "      <th>minilm</th>\n",
              "      <th>bloom</th>\n",
              "    </tr>\n",
              "  </thead>\n",
              "  <tbody>\n",
              "    <tr>\n",
              "      <th>count</th>\n",
              "      <td>192.000000</td>\n",
              "      <td>192.000000</td>\n",
              "      <td>192.000000</td>\n",
              "      <td>192.000000</td>\n",
              "    </tr>\n",
              "    <tr>\n",
              "      <th>mean</th>\n",
              "      <td>0.827485</td>\n",
              "      <td>0.968404</td>\n",
              "      <td>0.501422</td>\n",
              "      <td>0.992690</td>\n",
              "    </tr>\n",
              "    <tr>\n",
              "      <th>std</th>\n",
              "      <td>0.080960</td>\n",
              "      <td>0.080818</td>\n",
              "      <td>0.000362</td>\n",
              "      <td>0.040856</td>\n",
              "    </tr>\n",
              "    <tr>\n",
              "      <th>min</th>\n",
              "      <td>0.495300</td>\n",
              "      <td>0.561700</td>\n",
              "      <td>0.500300</td>\n",
              "      <td>0.601400</td>\n",
              "    </tr>\n",
              "    <tr>\n",
              "      <th>25%</th>\n",
              "      <td>0.805575</td>\n",
              "      <td>0.989625</td>\n",
              "      <td>0.501300</td>\n",
              "      <td>1.000000</td>\n",
              "    </tr>\n",
              "    <tr>\n",
              "      <th>50%</th>\n",
              "      <td>0.850050</td>\n",
              "      <td>0.995700</td>\n",
              "      <td>0.501500</td>\n",
              "      <td>1.000000</td>\n",
              "    </tr>\n",
              "    <tr>\n",
              "      <th>75%</th>\n",
              "      <td>0.875700</td>\n",
              "      <td>0.997925</td>\n",
              "      <td>0.501700</td>\n",
              "      <td>1.000000</td>\n",
              "    </tr>\n",
              "    <tr>\n",
              "      <th>max</th>\n",
              "      <td>0.938100</td>\n",
              "      <td>0.999500</td>\n",
              "      <td>0.502100</td>\n",
              "      <td>1.000000</td>\n",
              "    </tr>\n",
              "  </tbody>\n",
              "</table>\n",
              "</div>\n",
              "      <button class=\"colab-df-convert\" onclick=\"convertToInteractive('df-a2910dc3-4f9d-47fc-85d1-9313434468fb')\"\n",
              "              title=\"Convert this dataframe to an interactive table.\"\n",
              "              style=\"display:none;\">\n",
              "        \n",
              "  <svg xmlns=\"http://www.w3.org/2000/svg\" height=\"24px\"viewBox=\"0 0 24 24\"\n",
              "       width=\"24px\">\n",
              "    <path d=\"M0 0h24v24H0V0z\" fill=\"none\"/>\n",
              "    <path d=\"M18.56 5.44l.94 2.06.94-2.06 2.06-.94-2.06-.94-.94-2.06-.94 2.06-2.06.94zm-11 1L8.5 8.5l.94-2.06 2.06-.94-2.06-.94L8.5 2.5l-.94 2.06-2.06.94zm10 10l.94 2.06.94-2.06 2.06-.94-2.06-.94-.94-2.06-.94 2.06-2.06.94z\"/><path d=\"M17.41 7.96l-1.37-1.37c-.4-.4-.92-.59-1.43-.59-.52 0-1.04.2-1.43.59L10.3 9.45l-7.72 7.72c-.78.78-.78 2.05 0 2.83L4 21.41c.39.39.9.59 1.41.59.51 0 1.02-.2 1.41-.59l7.78-7.78 2.81-2.81c.8-.78.8-2.07 0-2.86zM5.41 20L4 18.59l7.72-7.72 1.47 1.35L5.41 20z\"/>\n",
              "  </svg>\n",
              "      </button>\n",
              "      \n",
              "  <style>\n",
              "    .colab-df-container {\n",
              "      display:flex;\n",
              "      flex-wrap:wrap;\n",
              "      gap: 12px;\n",
              "    }\n",
              "\n",
              "    .colab-df-convert {\n",
              "      background-color: #E8F0FE;\n",
              "      border: none;\n",
              "      border-radius: 50%;\n",
              "      cursor: pointer;\n",
              "      display: none;\n",
              "      fill: #1967D2;\n",
              "      height: 32px;\n",
              "      padding: 0 0 0 0;\n",
              "      width: 32px;\n",
              "    }\n",
              "\n",
              "    .colab-df-convert:hover {\n",
              "      background-color: #E2EBFA;\n",
              "      box-shadow: 0px 1px 2px rgba(60, 64, 67, 0.3), 0px 1px 3px 1px rgba(60, 64, 67, 0.15);\n",
              "      fill: #174EA6;\n",
              "    }\n",
              "\n",
              "    [theme=dark] .colab-df-convert {\n",
              "      background-color: #3B4455;\n",
              "      fill: #D2E3FC;\n",
              "    }\n",
              "\n",
              "    [theme=dark] .colab-df-convert:hover {\n",
              "      background-color: #434B5C;\n",
              "      box-shadow: 0px 1px 3px 1px rgba(0, 0, 0, 0.15);\n",
              "      filter: drop-shadow(0px 1px 2px rgba(0, 0, 0, 0.3));\n",
              "      fill: #FFFFFF;\n",
              "    }\n",
              "  </style>\n",
              "\n",
              "      <script>\n",
              "        const buttonEl =\n",
              "          document.querySelector('#df-a2910dc3-4f9d-47fc-85d1-9313434468fb button.colab-df-convert');\n",
              "        buttonEl.style.display =\n",
              "          google.colab.kernel.accessAllowed ? 'block' : 'none';\n",
              "\n",
              "        async function convertToInteractive(key) {\n",
              "          const element = document.querySelector('#df-a2910dc3-4f9d-47fc-85d1-9313434468fb');\n",
              "          const dataTable =\n",
              "            await google.colab.kernel.invokeFunction('convertToInteractive',\n",
              "                                                     [key], {});\n",
              "          if (!dataTable) return;\n",
              "\n",
              "          const docLinkHtml = 'Like what you see? Visit the ' +\n",
              "            '<a target=\"_blank\" href=https://colab.research.google.com/notebooks/data_table.ipynb>data table notebook</a>'\n",
              "            + ' to learn more about interactive tables.';\n",
              "          element.innerHTML = '';\n",
              "          dataTable['output_type'] = 'display_data';\n",
              "          await google.colab.output.renderOutput(dataTable, element);\n",
              "          const docLink = document.createElement('div');\n",
              "          docLink.innerHTML = docLinkHtml;\n",
              "          element.appendChild(docLink);\n",
              "        }\n",
              "      </script>\n",
              "    </div>\n",
              "  </div>\n",
              "  "
            ]
          },
          "metadata": {},
          "execution_count": 174
        }
      ]
    },
    {
      "cell_type": "code",
      "source": [
        "labels_adhoc = labels"
      ],
      "metadata": {
        "id": "wO_GJ3ZdfgDJ"
      },
      "execution_count": null,
      "outputs": []
    },
    {
      "cell_type": "code",
      "source": [
        "def get_outlier_index(items,column):\n",
        "  df = items[column]\n",
        "  q1 = df.quantile(0.25)\n",
        "  q3 = df.quantile(0.75)\n",
        "  IQR=q3-q1\n",
        "  lower = df[(df<(q1-1.5*IQR))]\n",
        "  return lower.index\n",
        "\n",
        "labels_adhoc['distil_label'][get_outlier_index(score_label,'distilbert')]='neutral'\n",
        "labels_adhoc['bloom_label'][get_outlier_index(score_label,'bloom')]='neutral'"
      ],
      "metadata": {
        "id": "Y_CGUP4BcI4-"
      },
      "execution_count": null,
      "outputs": []
    },
    {
      "cell_type": "code",
      "source": [
        "labels_adhoc['distil_label'].value_counts()"
      ],
      "metadata": {
        "colab": {
          "base_uri": "https://localhost:8080/"
        },
        "id": "FoUWLVnSeNq_",
        "outputId": "a5da2934-22d8-4062-9fb6-1feabb131c19"
      },
      "execution_count": null,
      "outputs": [
        {
          "output_type": "execute_result",
          "data": {
            "text/plain": [
              "negative    154\n",
              "neutral      34\n",
              "positive      4\n",
              "Name: distilbert, dtype: int64"
            ]
          },
          "metadata": {},
          "execution_count": 177
        }
      ]
    },
    {
      "cell_type": "code",
      "source": [
        "labels_adhoc['bloom_label'].value_counts()"
      ],
      "metadata": {
        "colab": {
          "base_uri": "https://localhost:8080/"
        },
        "id": "iO72zwwMfo6H",
        "outputId": "7e70f5b1-cc2e-4493-a5d4-bbcb26812a65"
      },
      "execution_count": null,
      "outputs": [
        {
          "output_type": "execute_result",
          "data": {
            "text/plain": [
              "negative    154\n",
              "neutral      35\n",
              "positive      3\n",
              "Name: bloom, dtype: int64"
            ]
          },
          "metadata": {},
          "execution_count": 178
        }
      ]
    },
    {
      "cell_type": "markdown",
      "source": [
        "evaluation ad hoc"
      ],
      "metadata": {
        "id": "HCtv6LMnf3SB"
      }
    },
    {
      "cell_type": "code",
      "source": [
        "for name_pred, y_pred in labels_adhoc.items():\n",
        "  print(name_pred)\n",
        "  print(precision_recall_fscore_support(true_label, y_pred, average='macro'))\n",
        "  print(precision_recall_fscore_support(true_label, y_pred, average='micro'))\n",
        "  print(precision_recall_fscore_support(true_label, y_pred, average='weighted'))\n",
        "  print(accuracy_score(true_label, y_pred))\n",
        "  print(accuracy_score(true_label, y_pred, normalize=False))"
      ],
      "metadata": {
        "colab": {
          "base_uri": "https://localhost:8080/"
        },
        "id": "LSFe-jetf9r_",
        "outputId": "1d6b3b12-94bd-4b53-9df8-c65c1fe7cb5e"
      },
      "execution_count": null,
      "outputs": [
        {
          "output_type": "stream",
          "name": "stdout",
          "text": [
            "roberta_label\n",
            "(0.753968253968254, 0.3683360700602079, 0.35672521900066806, None)\n",
            "(0.7604166666666666, 0.7604166666666666, 0.7604166666666666, None)\n",
            "(0.7290426587301587, 0.7604166666666666, 0.6706665930094072, None)\n",
            "0.7604166666666666\n",
            "146\n",
            "distil_label\n",
            "(0.46473134708428826, 0.38691844553913524, 0.27501157715310415, None)\n",
            "(0.2864583333333333, 0.2864583333333333, 0.2864583333333333, None)\n",
            "(0.5986658868092692, 0.2864583333333333, 0.27408032450513825, None)\n",
            "0.2864583333333333\n",
            "55\n",
            "minilm_label\n",
            "(0.06076388888888889, 0.3333333333333333, 0.10279001468428779, None)\n",
            "(0.18229166666666666, 0.18229166666666666, 0.18229166666666663, None)\n",
            "(0.03323025173611111, 0.18229166666666666, 0.05621328928046989, None)\n",
            "0.18229166666666666\n",
            "35\n",
            "bloom_label\n",
            "(0.3907647907647907, 0.34731800766283527, 0.22839506172839505, None)\n",
            "(0.2708333333333333, 0.2708333333333333, 0.2708333333333333, None)\n",
            "(0.5502570346320347, 0.2708333333333333, 0.25534336419753095, None)\n",
            "0.2708333333333333\n",
            "52\n"
          ]
        },
        {
          "output_type": "stream",
          "name": "stderr",
          "text": [
            "/usr/local/lib/python3.8/dist-packages/sklearn/metrics/_classification.py:1318: UndefinedMetricWarning: Precision and F-score are ill-defined and being set to 0.0 in labels with no predicted samples. Use `zero_division` parameter to control this behavior.\n",
            "  _warn_prf(average, modifier, msg_start, len(result))\n",
            "/usr/local/lib/python3.8/dist-packages/sklearn/metrics/_classification.py:1318: UndefinedMetricWarning: Precision and F-score are ill-defined and being set to 0.0 in labels with no predicted samples. Use `zero_division` parameter to control this behavior.\n",
            "  _warn_prf(average, modifier, msg_start, len(result))\n"
          ]
        }
      ]
    },
    {
      "cell_type": "markdown",
      "source": [
        "pre-processing collapse, negative into positive"
      ],
      "metadata": {
        "id": "Z7nJCQ_SgKtx"
      }
    },
    {
      "cell_type": "code",
      "source": [
        "true_label_collapse = true_label\n",
        "true_label_collapse[true_label_collapse =='negative'] = 'positive'\n",
        "true_label_collapse.value_counts()"
      ],
      "metadata": {
        "colab": {
          "base_uri": "https://localhost:8080/"
        },
        "id": "z9Ox2KTWgSZt",
        "outputId": "baa466a9-798b-4d5a-a22a-29496eeb2a3d"
      },
      "execution_count": null,
      "outputs": [
        {
          "output_type": "execute_result",
          "data": {
            "text/plain": [
              "neutral     145\n",
              "positive     47\n",
              "Name: cats, dtype: int64"
            ]
          },
          "metadata": {},
          "execution_count": 180
        }
      ]
    },
    {
      "cell_type": "code",
      "source": [
        "labels_collapse = labels_adhoc\n",
        "labels_collapse['distil_label'][labels_collapse['distil_label'] =='negative'] = 'positive'\n",
        "labels_collapse['bloom_label'][labels_collapse['bloom_label'] =='negative'] = 'positive'\n",
        "labels_collapse['roberta_label'][labels_collapse['roberta_label'] =='negative'] = 'positive'"
      ],
      "metadata": {
        "id": "ZXb9RI33h8pM"
      },
      "execution_count": null,
      "outputs": []
    },
    {
      "cell_type": "code",
      "source": [
        "labels_collapse['bloom_label'].value_counts()"
      ],
      "metadata": {
        "colab": {
          "base_uri": "https://localhost:8080/"
        },
        "id": "k5yfKYUeiKkc",
        "outputId": "06a29efa-ab0e-45a5-91a8-171ff5e8ddcd"
      },
      "execution_count": null,
      "outputs": [
        {
          "output_type": "execute_result",
          "data": {
            "text/plain": [
              "positive    157\n",
              "neutral      35\n",
              "Name: bloom, dtype: int64"
            ]
          },
          "metadata": {},
          "execution_count": 182
        }
      ]
    },
    {
      "cell_type": "markdown",
      "source": [
        "evaluation collapse "
      ],
      "metadata": {
        "id": "yPGnCntEksrR"
      }
    },
    {
      "cell_type": "code",
      "source": [
        "\n",
        "for name_pred, y_pred in labels_collapse.items():\n",
        "  print(name_pred)\n",
        "  print(precision_recall_fscore_support(true_label_collapse, y_pred, average='macro'))\n",
        "  print(precision_recall_fscore_support(true_label_collapse, y_pred, average='micro'))\n",
        "  print(precision_recall_fscore_support(true_label_collapse, y_pred, average='weighted'))\n",
        "  print(accuracy_score(true_label_collapse, y_pred))\n",
        "  print(accuracy_score(true_label_collapse, y_pred, normalize=False))"
      ],
      "metadata": {
        "colab": {
          "base_uri": "https://localhost:8080/"
        },
        "id": "aQzIgzDHkv8T",
        "outputId": "66f2a00f-ae4c-4317-d793-68185ad69f46"
      },
      "execution_count": null,
      "outputs": [
        {
          "output_type": "stream",
          "name": "stdout",
          "text": [
            "roberta_label\n",
            "(0.7142857142857142, 0.5178283198826119, 0.47113772455089814, None)\n",
            "(0.7604166666666666, 0.7604166666666666, 0.7604166666666666, None)\n",
            "(0.7385912698412698, 0.7604166666666666, 0.6707809381237525, None)\n",
            "0.7604166666666666\n",
            "146\n",
            "distil_label\n",
            "(0.470029784065525, 0.47637564196625093, 0.3145660171685516, None)\n",
            "(0.3177083333333333, 0.3177083333333333, 0.3177083333333333, None)\n",
            "(0.5904128660958055, 0.3177083333333333, 0.2908777876186583, None)\n",
            "0.3177083333333333\n",
            "61\n",
            "minilm_label\n",
            "(0.0, 0.0, 0.0, None)\n",
            "(0.0, 0.0, 0.0, None)\n",
            "(0.0, 0.0, 0.0, None)\n",
            "0.0\n",
            "0\n",
            "bloom_label\n",
            "(0.44003639672429484, 0.4516507703595011, 0.2993464052287582, None)\n",
            "(0.3020833333333333, 0.3020833333333333, 0.3020833333333333, None)\n",
            "(0.550851152562936, 0.3020833333333333, 0.27699482570806105, None)\n",
            "0.3020833333333333\n",
            "58\n"
          ]
        },
        {
          "output_type": "stream",
          "name": "stderr",
          "text": [
            "/usr/local/lib/python3.8/dist-packages/sklearn/metrics/_classification.py:1318: UndefinedMetricWarning: Precision and F-score are ill-defined and being set to 0.0 in labels with no predicted samples. Use `zero_division` parameter to control this behavior.\n",
            "  _warn_prf(average, modifier, msg_start, len(result))\n",
            "/usr/local/lib/python3.8/dist-packages/sklearn/metrics/_classification.py:1318: UndefinedMetricWarning: Recall and F-score are ill-defined and being set to 0.0 in labels with no true samples. Use `zero_division` parameter to control this behavior.\n",
            "  _warn_prf(average, modifier, msg_start, len(result))\n",
            "/usr/local/lib/python3.8/dist-packages/sklearn/metrics/_classification.py:1318: UndefinedMetricWarning: Precision and F-score are ill-defined and being set to 0.0 in labels with no predicted samples. Use `zero_division` parameter to control this behavior.\n",
            "  _warn_prf(average, modifier, msg_start, len(result))\n",
            "/usr/local/lib/python3.8/dist-packages/sklearn/metrics/_classification.py:1318: UndefinedMetricWarning: Recall and F-score are ill-defined and being set to 0.0 in labels with no true samples. Use `zero_division` parameter to control this behavior.\n",
            "  _warn_prf(average, modifier, msg_start, len(result))\n"
          ]
        }
      ]
    }
  ]
}